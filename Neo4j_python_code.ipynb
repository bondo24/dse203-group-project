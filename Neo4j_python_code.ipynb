{
 "cells": [
  {
   "cell_type": "code",
   "execution_count": 6,
   "metadata": {},
   "outputs": [],
   "source": [
    "from py2neo import Graph,Node,Relationship"
   ]
  },
  {
   "cell_type": "code",
   "execution_count": 7,
   "metadata": {},
   "outputs": [],
   "source": [
    "g = Graph(password = \"123456\")\n",
    "a = Node(\"company\", title = \"Amazon\")\n",
    "b = Node(\"company\", title = \"Zappos\",acquired_on = \"November 2, 2009\",acquired_for = 1200000000.0,organization = \"Zappos.com\",founded = \"July 12, 1999\",industry = ['Retail'], products = ['Shoes', 'handbags','eyewear', 'accessories','clothing' ], number_of_employees = \"1,500\",location = \"Las Vegas\",founder = \"Nick Swinmurn\",summary = \"Zappos.com is an online shoe and clothing retailer based in Las Vegas, Nevada.[1] The company was founded in 1999 by Nick Swinmurn and launched under the domain name Shoesite.com. In July 2009, Amazon acquired Zappos in an all-stock deal worth around $1.2 billion at the time\")\n",
    "       \n",
    "c = Node(\"company\", title = 'Woot',\n",
    "        acquired_on = 'July 2, 2010',\n",
    "        acquired_for = 110000000.0,\n",
    "        organization = 'Woot, Inc.',\n",
    "        founded = '2004',\n",
    "        industry = ['Retail'],\n",
    "        products = [\n",
    "            'Electronics',\n",
    "            'Household Goods',\n",
    "            'etc.'\n",
    "        ],\n",
    "        number_of_employees = '140',\n",
    "        location = \"Carrollton, Texas\",\n",
    "        founder = \"Matt Rutledge\",\n",
    "        summary = \"Woot (originally W00t) is an American Internet retailer based in the Dallas suburb of Carrollton, Texas. Founded by electronics wholesaler Matt Rutledge, it debuted on July 12, 2004.[4]  Woot's main website generally offers only one discounted product each day, often a piece of computer hardware or an electronic gadget. Other Woot sites offer daily deals for T-shirts, wine, children's items, household goods; two other sites offer various items. On June 30, 2010, Woot announced an agreement to be acquired by Amazon\")\n",
    "d = Node(\"company\", title = 'Whole Foods Market',\n",
    "        acquired_on= 'June 16, 2017',\n",
    "        acquired_for= 13700000000.0,\n",
    "        organization='Whole Foods Market, Inc.',\n",
    "        founded= 'June 2015',\n",
    "        industry= ['Grocery store',\n",
    "            'Health food store',\n",
    "            'Retail grocerie'],\n",
    "        products= ['null'],\n",
    "        number_of_employees= '91000',\n",
    "        location= \"Austin, Texas\",\n",
    "        founder= \"John Mackey\",\n",
    "        summary= 'Whole Foods Market Inc. is an American multinational supermarket chain headquartered in Austin, Texas, which exclusively sells products free from hydrogenated fats and artificial colors, flavors, and preservatives.[4] A USDA Certified Organic grocer in the United States, the chain is popularly known for its organic selections.[5] Whole Foods has 500 stores in North America and the United Kingdom as of March\\u00a04, 2019[update].')\n",
    "\n",
    "g.create(a | b | c | d)\n",
    "MergedBy = Relationship.type(\"MergedBy\")\n",
    "g.merge(MergedBy(b,a), \"company\", \"title\")\n",
    "g.merge(MergedBy(c,a), \"company\", \"title\")\n",
    "g.merge(MergedBy(d,a), \"company\", \"title\")"
   ]
  }
 ],
 "metadata": {
  "kernelspec": {
   "display_name": "Python 3",
   "language": "python",
   "name": "python3"
  },
  "language_info": {
   "codemirror_mode": {
    "name": "ipython",
    "version": 3
   },
   "file_extension": ".py",
   "mimetype": "text/x-python",
   "name": "python",
   "nbconvert_exporter": "python",
   "pygments_lexer": "ipython3",
   "version": "3.6.8"
  }
 },
 "nbformat": 4,
 "nbformat_minor": 2
}
